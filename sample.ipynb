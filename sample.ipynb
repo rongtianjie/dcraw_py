{
 "cells": [
  {
   "cell_type": "code",
   "execution_count": null,
   "metadata": {},
   "outputs": [],
   "source": [
    "import dcraw\n",
    "import colour\n",
    "import color_correction\n",
    "import sys\n",
    "import image_utils\n",
    "\n",
    "colour.plotting.colour_style()\n",
    "\n",
    "colour.utilities.describe_environment()"
   ]
  },
  {
   "cell_type": "code",
   "execution_count": null,
   "metadata": {},
   "outputs": [],
   "source": [
    "path = sys.path[0] + \"/images/\"\n",
    "infn = \"nocompress_sRGB.RAF\"\n",
    "outfn = path + infn.split(\".\", 1)[0]\n",
    "suffix = \".RAF\"\n",
    "verbose = True"
   ]
  },
  {
   "cell_type": "code",
   "execution_count": null,
   "metadata": {},
   "outputs": [],
   "source": [
    "if 1:\n",
    "    rawData = dcraw.imread(infn, path = path, verbose = verbose)\n",
    "\n",
    "    image_srgb = dcraw.postprocessing(rawData, demosacing_method = 0, output_srgb = True, verbose = verbose)\n",
    "\n",
    "    # image_bright = dcraw_utils.auto_bright(image_srgb, perc=0.005, verbose=verbose)\n",
    "\n",
    "    # image_utils.save_image_16(outfn + \"_srgb.tiff\", image_srgb, verbose = verbose)\n",
    "    # image_utils.save_image_16(outfn + \"_bright.tiff\", image_bright, verbose = verbose)"
   ]
  },
  {
   "cell_type": "code",
   "execution_count": null,
   "metadata": {},
   "outputs": [],
   "source": [
    "image_lrgb = colour.cctf_decoding(image_srgb / 65535)\n",
    "\n",
    "image_lrgb, ratio = color_correction.auto_bright(image_lrgb)\n",
    "\n",
    "# image_lrgb = colour.cctf_decoding(colour.io.read_image(\"cctest_images/spyderchecker_shift.jpg\"))\n",
    "\n",
    "colour.plotting.plot_image(colour.cctf_encoding(image_lrgb))"
   ]
  },
  {
   "cell_type": "code",
   "execution_count": null,
   "metadata": {},
   "outputs": [],
   "source": [
    "\n",
    "swatch = color_correction.getColorCorrectionSwatches(image_lrgb, auto_shink = True, verbose = verbose)"
   ]
  },
  {
   "cell_type": "code",
   "execution_count": null,
   "metadata": {},
   "outputs": [],
   "source": [
    "image_corrected = color_correction.correction(image_lrgb, swatch, verbose = verbose)"
   ]
  },
  {
   "cell_type": "code",
   "execution_count": null,
   "metadata": {},
   "outputs": [],
   "source": [
    "image_corrected[image_corrected>1] = 1\n",
    "image_corrected[image_corrected<0] = 0\n",
    "\n",
    "image_corrected = colour.cctf_encoding(image_corrected / ratio) * 65535\n",
    "\n",
    "image_utils.save_image_16(outfn + \"_corrected.tiff\", image_corrected, verbose = verbose)"
   ]
  }
 ],
 "metadata": {
  "interpreter": {
   "hash": "e79f806907f4c3dd023418518a5e30bde9d80f28062ad3fd81516365fad139d1"
  },
  "kernelspec": {
   "display_name": "Python 3.9.7 64-bit ('base': conda)",
   "language": "python",
   "name": "python3"
  },
  "language_info": {
   "codemirror_mode": {
    "name": "ipython",
    "version": 3
   },
   "file_extension": ".py",
   "mimetype": "text/x-python",
   "name": "python",
   "nbconvert_exporter": "python",
   "pygments_lexer": "ipython3",
   "version": "3.9.7"
  },
  "orig_nbformat": 4
 },
 "nbformat": 4,
 "nbformat_minor": 2
}
